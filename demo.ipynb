{
 "cells": [
  {
   "cell_type": "code",
   "execution_count": null,
   "metadata": {},
   "outputs": [],
   "source": [
    "!sudo apt update\n",
    "!sudo apt install libcairo2-dev ffmpeg \\\n",
    "    texlive texlive-latex-extra texlive-fonts-extra \\\n",
    "    texlive-latex-recommended texlive-science \\\n",
    "    tipa libpango1.0-dev\n",
    "!pip install manim\n",
    "!pip install IPython --upgrade"
   ]
  },
  {
   "cell_type": "code",
   "execution_count": null,
   "metadata": {},
   "outputs": [],
   "source": [
    "%cd /content/\n",
    "!git clone https://github.com/Tma2333/cvx_viz.git\n",
    "%cd cvx_viz\n",
    "\n",
    "import sys\n",
    "sys.path.append('/content/cvx_viz/')"
   ]
  },
  {
   "cell_type": "code",
   "execution_count": 1,
   "metadata": {},
   "outputs": [
    {
     "data": {
      "text/html": [
       "<pre style=\"white-space:pre;overflow-x:auto;line-height:normal;font-family:Menlo,'DejaVu Sans Mono',consolas,'Courier New',monospace\">Manim Community <span style=\"color: #008000; text-decoration-color: #008000\">v0.15.2</span>\n",
       "\n",
       "</pre>\n"
      ],
      "text/plain": [
       "Manim Community \u001b[32mv0.\u001b[0m\u001b[32m15.2\u001b[0m\n",
       "\n"
      ]
     },
     "metadata": {},
     "output_type": "display_data"
    }
   ],
   "source": [
    "from manim import *\n",
    "import numpy as np\n",
    "import matplotlib.pyplot as plt\n",
    "\n",
    "from cvx_viz import CvxOptViz, SubGradientDescent, SubGradientDescentWithMomentum\n",
    "\n",
    "config.media_width = \"75%\"\n",
    "config.verbosity = \"WARNING\""
   ]
  },
  {
   "cell_type": "markdown",
   "metadata": {},
   "source": [
    "$$\\text{Scaled Himmelblau's function}$$"
   ]
  },
  {
   "cell_type": "code",
   "execution_count": 2,
   "metadata": {},
   "outputs": [
    {
     "name": "stderr",
     "output_type": "stream",
     "text": [
      "                                                                                                  \r"
     ]
    },
    {
     "data": {
      "text/html": [
       "<video src=\"media\\jupyter\\SubGradientDescent@2022-05-26@20-50-25.mp4\" controls autoplay loop style=\"max-width: 75%;\"  >\n",
       "      Your browser does not support the <code>video</code> element.\n",
       "    </video>"
      ],
      "text/plain": [
       "<IPython.core.display.Video object>"
      ]
     },
     "metadata": {},
     "output_type": "display_data"
    }
   ],
   "source": [
    "%%manim -ql SubGradientDescent\n",
    "\n",
    "def fx(self, x1, x2):\n",
    "    fx = 0.1*((x1**2 + x2 - 1.1)**2 +  (x1 + x2**2 - 0.7) **2)\n",
    "    return fx\n",
    "    \n",
    "    \n",
    "def dfx(self, x1, x2):\n",
    "    dx1 = 0.1 * (4 * x1 * (x1**2 + x2 - 1.1) + 2 * (x1 + x2**2 - 0.7))\n",
    "    dx2 = 0.1 * (2 * (x1**2 + x2 - 1.1) + 4 * x2 * (x1 + x2**2 - 0.7))\n",
    "    return np.array([dx1, dx2])\n",
    "\n",
    "SubGradientDescent.max_iter=5\n",
    "SubGradientDescent.x10 = np.random.rand() * 4 - 2\n",
    "SubGradientDescent.x20 = np.random.rand() * 4 - 2\n",
    "SubGradientDescent.step_size = 1\n",
    "SubGradientDescent.mode = '3d'\n",
    "SubGradientDescent.fx = fx\n",
    "SubGradientDescent.dfx = dfx"
   ]
  },
  {
   "cell_type": "markdown",
   "metadata": {},
   "source": [
    "$$f(x) = 0.5x_1^2 + 0.05x_2^2 $$"
   ]
  },
  {
   "cell_type": "code",
   "execution_count": null,
   "metadata": {},
   "outputs": [],
   "source": [
    "%%manim -ql SubGradientDescent\n",
    "\n",
    "def fx(self, x1, x2):\n",
    "    fx = 0.5 * x1**2 +  0.05 * x2 ** 2\n",
    "    return fx\n",
    "    \n",
    "    \n",
    "def dfx(self, x1, x2):\n",
    "    dx1 = x1\n",
    "    dx2 = 0.1 * x2\n",
    "    return np.array([dx1, dx2])\n",
    "\n",
    "SubGradientDescent.max_iter=5\n",
    "SubGradientDescent.x10 = 1.5\n",
    "SubGradientDescent.x20 = 1.5\n",
    "SubGradientDescent.step_size = 1.5\n",
    "SubGradientDescent.mode = '3d'\n",
    "SubGradientDescent.fx = fx\n",
    "SubGradientDescent.dfx = dfx\n"
   ]
  },
  {
   "cell_type": "code",
   "execution_count": null,
   "metadata": {},
   "outputs": [],
   "source": [
    "%%manim -ql SubGradientDescentWithMomentum\n",
    "\n",
    "SubGradientDescentWithMomentum.max_iter=5\n",
    "SubGradientDescentWithMomentum.x10 = 1.5\n",
    "SubGradientDescentWithMomentum.x20 = 1.5\n",
    "SubGradientDescentWithMomentum.beta = 0.25\n",
    "SubGradientDescentWithMomentum.step_size = 1.5\n",
    "SubGradientDescentWithMomentum.mode = '3d'\n",
    "SubGradientDescentWithMomentum.fx = fx\n",
    "SubGradientDescentWithMomentum.dfx = dfx\n"
   ]
  },
  {
   "cell_type": "markdown",
   "metadata": {},
   "source": [
    "$$f(x) = x_1^2 - x_2^2$$"
   ]
  },
  {
   "cell_type": "code",
   "execution_count": null,
   "metadata": {},
   "outputs": [],
   "source": [
    "%%manim -ql SubGradientDescent\n",
    "\n",
    "def fx(self, x1, x2):\n",
    "    fx = x1**2 - x2**2\n",
    "    return fx\n",
    "    \n",
    "    \n",
    "def dfx(self, x1, x2):\n",
    "    dx1 = 2*x1\n",
    "    dx2 = -2*x2\n",
    "    return np.array([dx1, dx2])\n",
    "\n",
    "SubGradientDescent.max_iter=7\n",
    "SubGradientDescent.x10 = -1.5\n",
    "SubGradientDescent.x20 = 0.1\n",
    "SubGradientDescent.step_size = 0.25\n",
    "SubGradientDescent.mode = '3d'\n",
    "SubGradientDescent.fx = fx\n",
    "SubGradientDescent.dfx = dfx"
   ]
  },
  {
   "cell_type": "code",
   "execution_count": null,
   "metadata": {},
   "outputs": [],
   "source": [
    "%%manim -ql SubGradientDescent\n",
    "SubGradientDescent.mode = '2d'"
   ]
  },
  {
   "cell_type": "markdown",
   "metadata": {},
   "source": [
    "$$f(x) = \\|x\\|_1$$"
   ]
  },
  {
   "cell_type": "code",
   "execution_count": null,
   "metadata": {},
   "outputs": [],
   "source": [
    "%%manim -ql SubGradientDescent\n",
    "\n",
    "def fx(self, x1, x2):\n",
    "    fx = np.abs(x1) + np.abs(x2)\n",
    "    return fx\n",
    "    \n",
    "    \n",
    "def dfx(self, x1, x2):\n",
    "    if x1 < 0:\n",
    "        dx1 = -1\n",
    "    if x1 > 0:\n",
    "        dx1 = 1\n",
    "    if x2 < 0:\n",
    "        dx2 = -1\n",
    "    if x2 > 0:\n",
    "        dx2 = 1\n",
    "    if x1 == 0:\n",
    "        dx1 = np.random.rand()*2-1\n",
    "    if x2 == 0:\n",
    "        dx2 = np.random.rand()*2-1\n",
    "    return np.array([dx1, dx2])\n",
    "\n",
    "SubGradientDescent.max_iter=5\n",
    "SubGradientDescent.x10 = 0\n",
    "SubGradientDescent.x20 = 1.5\n",
    "SubGradientDescent.step_size = 0.25\n",
    "SubGradientDescent.mode = '3d'\n",
    "SubGradientDescent.fx = fx\n",
    "SubGradientDescent.dfx = dfx"
   ]
  },
  {
   "cell_type": "markdown",
   "metadata": {},
   "source": [
    "$$f(x) = 0.5\\max_i(x_i)^2$$"
   ]
  },
  {
   "cell_type": "code",
   "execution_count": null,
   "metadata": {},
   "outputs": [],
   "source": [
    "%%manim -ql SubGradientDescent\n",
    "\n",
    "def fx(self, x1, x2):\n",
    "    fx = 0.5* np.maximum(x1, x2)**2\n",
    "    return fx\n",
    "    \n",
    "    \n",
    "def dfx(self, x1, x2):\n",
    "    if x1 > x2:\n",
    "        dx1 = x1\n",
    "        dx2 = 0\n",
    "    if x1 < x2:\n",
    "        dx2 = x2\n",
    "        dx1 = 0\n",
    "    if x1 == x2:\n",
    "        dx2 = x2\n",
    "        dx1 = x1\n",
    "\n",
    "    return np.array([dx1, dx2])\n",
    "\n",
    "SubGradientDescent.max_iter=5\n",
    "SubGradientDescent.x10 = np.random.rand()*0.5 + 1.5\n",
    "SubGradientDescent.x20 = np.random.rand()*0.5 + 1.5\n",
    "SubGradientDescent.step_size = 1\n",
    "SubGradientDescent.mode = '3d'\n",
    "SubGradientDescent.fx = fx\n",
    "SubGradientDescent.dfx = dfx"
   ]
  }
 ],
 "metadata": {
  "interpreter": {
   "hash": "e28550ad42e4bd58856f05fe62cd91584940453773e5355ad1f756f9fe33003f"
  },
  "kernelspec": {
   "display_name": "Python 3.9.12 ('cvx_viz')",
   "language": "python",
   "name": "python3"
  },
  "language_info": {
   "codemirror_mode": {
    "name": "ipython",
    "version": 3
   },
   "file_extension": ".py",
   "mimetype": "text/x-python",
   "name": "python",
   "nbconvert_exporter": "python",
   "pygments_lexer": "ipython3",
   "version": "3.9.12"
  },
  "orig_nbformat": 4
 },
 "nbformat": 4,
 "nbformat_minor": 2
}
