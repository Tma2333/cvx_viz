{
 "cells": [
  {
   "cell_type": "code",
   "execution_count": null,
   "metadata": {},
   "outputs": [],
   "source": [
    "!sudo apt update\n",
    "!sudo apt install libcairo2-dev ffmpeg \\\n",
    "    texlive texlive-latex-extra texlive-fonts-extra \\\n",
    "    texlive-latex-recommended texlive-science \\\n",
    "    tipa libpango1.0-dev\n",
    "!pip install manim\n",
    "!pip install IPython --upgrade"
   ]
  },
  {
   "cell_type": "code",
   "execution_count": null,
   "metadata": {},
   "outputs": [],
   "source": [
    "%cd /content/\n",
    "!git clone https://github.com/Tma2333/cvx_viz.git\n",
    "%cd cvx_viz\n",
    "\n",
    "import sys\n",
    "sys.path.append('/content/cvx_viz/')"
   ]
  },
  {
   "cell_type": "code",
   "execution_count": null,
   "metadata": {},
   "outputs": [],
   "source": [
    "from manim import *\n",
    "import numpy as np\n",
    "import matplotlib.pyplot as plt\n",
    "\n",
    "from cvx_viz import CvxOptViz, SubGradientDescent, SubGradientDescentWithMomentum\n",
    "\n",
    "config.media_width = \"75%\"\n",
    "config.verbosity = \"WARNING\""
   ]
  },
  {
   "cell_type": "markdown",
   "metadata": {},
   "source": [
    "$$f(x) = 0.5x_1^2 + 0.05x_2^2 $$"
   ]
  },
  {
   "cell_type": "code",
   "execution_count": null,
   "metadata": {},
   "outputs": [],
   "source": [
    "%%manim -ql SubGradientDescent\n",
    "\n",
    "def fx(self, x1, x2):\n",
    "    fx = 0.5 * x1**2 +  0.05 * x2 ** 2\n",
    "    return fx\n",
    "    \n",
    "    \n",
    "def dfx(self, x1, x2):\n",
    "    dx1 = x1\n",
    "    dx2 = 0.1 * x2\n",
    "    return np.array([dx1, dx2])\n",
    "\n",
    "SubGradientDescent.max_iter=5\n",
    "SubGradientDescent.x10 = 1.5\n",
    "SubGradientDescent.x20 = 1.5\n",
    "SubGradientDescent.step_size = 1.5\n",
    "SubGradientDescent.mode = '3d'\n",
    "SubGradientDescent.fx = fx\n",
    "SubGradientDescent.dfx = dfx\n"
   ]
  },
  {
   "cell_type": "code",
   "execution_count": null,
   "metadata": {},
   "outputs": [],
   "source": [
    "%%manim -ql SubGradientDescentWithMomentum\n",
    "\n",
    "SubGradientDescentWithMomentum.max_iter=5\n",
    "SubGradientDescentWithMomentum.x10 = 1.5\n",
    "SubGradientDescentWithMomentum.x20 = 1.5\n",
    "SubGradientDescentWithMomentum.beta = 0.25\n",
    "SubGradientDescentWithMomentum.step_size = 1.5\n",
    "SubGradientDescentWithMomentum.mode = '3d'\n",
    "SubGradientDescentWithMomentum.fx = fx\n",
    "SubGradientDescentWithMomentum.dfx = dfx\n"
   ]
  },
  {
   "cell_type": "markdown",
   "metadata": {},
   "source": [
    "$$f(x) = x_1^2 - x_2^2$$"
   ]
  },
  {
   "cell_type": "code",
   "execution_count": null,
   "metadata": {},
   "outputs": [],
   "source": [
    "%%manim -ql SubGradientDescent\n",
    "\n",
    "def fx(self, x1, x2):\n",
    "    fx = x1**2 - x2**2\n",
    "    return fx\n",
    "    \n",
    "    \n",
    "def dfx(self, x1, x2):\n",
    "    dx1 = 2*x1\n",
    "    dx2 = -2*x2\n",
    "    return np.array([dx1, dx2])\n",
    "\n",
    "SubGradientDescent.max_iter=7\n",
    "SubGradientDescent.x10 = -1.5\n",
    "SubGradientDescent.x20 = 0.1\n",
    "SubGradientDescent.step_size = 0.25\n",
    "SubGradientDescent.mode = '3d'\n",
    "SubGradientDescent.fx = fx\n",
    "SubGradientDescent.dfx = dfx"
   ]
  },
  {
   "cell_type": "code",
   "execution_count": null,
   "metadata": {},
   "outputs": [],
   "source": [
    "%%manim -ql SubGradientDescent\n",
    "SubGradientDescent.mode = '2d'"
   ]
  },
  {
   "cell_type": "markdown",
   "metadata": {},
   "source": [
    "$$f(x) = \\|x\\|_1$$"
   ]
  },
  {
   "cell_type": "code",
   "execution_count": null,
   "metadata": {},
   "outputs": [],
   "source": [
    "%%manim -ql SubGradientDescent\n",
    "\n",
    "def fx(self, x1, x2):\n",
    "    fx = np.abs(x1) + np.abs(x2)\n",
    "    return fx\n",
    "    \n",
    "    \n",
    "def dfx(self, x1, x2):\n",
    "    if x1 < 0:\n",
    "        dx1 = -1\n",
    "    if x1 > 0:\n",
    "        dx1 = 1\n",
    "    if x2 < 0:\n",
    "        dx2 = -1\n",
    "    if x2 > 0:\n",
    "        dx2 = 1\n",
    "    if x1 == 0:\n",
    "        dx1 = np.random.rand()*2-1\n",
    "    if x2 == 0:\n",
    "        dx2 = np.random.rand()*2-1\n",
    "    return np.array([dx1, dx2])\n",
    "\n",
    "SubGradientDescent.max_iter=5\n",
    "SubGradientDescent.x10 = 0\n",
    "SubGradientDescent.x20 = 1.5\n",
    "SubGradientDescent.step_size = 0.25\n",
    "SubGradientDescent.mode = '3d'\n",
    "SubGradientDescent.fx = fx\n",
    "SubGradientDescent.dfx = dfx"
   ]
  },
  {
   "cell_type": "markdown",
   "metadata": {},
   "source": [
    "$$f(x) = 0.5\\max_i(x_i)^2$$"
   ]
  },
  {
   "cell_type": "code",
   "execution_count": null,
   "metadata": {},
   "outputs": [],
   "source": [
    "%%manim -ql SubGradientDescent\n",
    "\n",
    "def fx(self, x1, x2):\n",
    "    fx = 0.5* np.maximum(x1, x2)**2\n",
    "    return fx\n",
    "    \n",
    "    \n",
    "def dfx(self, x1, x2):\n",
    "    if x1 > x2:\n",
    "        dx1 = x1\n",
    "        dx2 = 0\n",
    "    if x1 < x2:\n",
    "        dx2 = x2\n",
    "        dx1 = 0\n",
    "    if x1 == x2:\n",
    "        dx2 = x2\n",
    "        dx1 = x1\n",
    "\n",
    "    return np.array([dx1, dx2])\n",
    "\n",
    "SubGradientDescent.max_iter=5\n",
    "SubGradientDescent.x10 = np.random.rand()*0.5 + 1.5\n",
    "SubGradientDescent.x20 = np.random.rand()*0.5 + 1.5\n",
    "SubGradientDescent.step_size = 1\n",
    "SubGradientDescent.mode = '3d'\n",
    "SubGradientDescent.fx = fx\n",
    "SubGradientDescent.dfx = dfx"
   ]
  }
 ],
 "metadata": {
  "language_info": {
   "name": "python"
  },
  "orig_nbformat": 4
 },
 "nbformat": 4,
 "nbformat_minor": 2
}
