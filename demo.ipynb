{
 "cells": [
  {
   "cell_type": "markdown",
   "metadata": {},
   "source": [
    "# Setup for Colab\n",
    "\n",
    "If you are running this notebook on Colab run following two cell to install dependency. After you run the first cell, you need to restart the runtime for the change to take effet. \n",
    "\n",
    "If you run this notebook in a local enviroment, you can start with the third code cell."
   ]
  },
  {
   "cell_type": "code",
   "execution_count": null,
   "metadata": {},
   "outputs": [],
   "source": [
    "!sudo apt update\n",
    "!sudo apt install libcairo2-dev ffmpeg \\\n",
    "    texlive texlive-latex-extra texlive-fonts-extra \\\n",
    "    texlive-latex-recommended texlive-science \\\n",
    "    tipa libpango1.0-dev\n",
    "!pip install manim\n",
    "!pip install cvxpy\n",
    "!pip install IPython --upgrade"
   ]
  },
  {
   "cell_type": "code",
   "execution_count": null,
   "metadata": {},
   "outputs": [],
   "source": [
    "%cd /content/\n",
    "!git clone https://github.com/Tma2333/cvx_viz.git\n",
    "%cd cvx_viz\n",
    "\n",
    "import sys\n",
    "sys.path.append('/content/cvx_viz/')"
   ]
  },
  {
   "cell_type": "markdown",
   "metadata": {},
   "source": [
    "# Example\n",
    "\n",
    "If you are running this notebook locally, you can start with the following cell."
   ]
  },
  {
   "cell_type": "code",
   "execution_count": null,
   "metadata": {},
   "outputs": [],
   "source": [
    "%load_ext autoreload\n",
    "%autoreload 2"
   ]
  },
  {
   "cell_type": "code",
   "execution_count": null,
   "metadata": {},
   "outputs": [],
   "source": [
    "from manim import *\n",
    "import numpy as np\n",
    "import matplotlib.pyplot as plt\n",
    "\n",
    "from cvx_viz import (CvxOptViz, \n",
    "                     SubGradientDescent, \n",
    "                     SubGradientDescentWithMomentum,\n",
    "                     ProjectedSubGradientDescent)\n",
    "\n",
    "config.media_width = \"75%\"\n",
    "config.verbosity = \"WARNING\""
   ]
  },
  {
   "cell_type": "markdown",
   "metadata": {},
   "source": [
    "$$\\text{Scaled Himmelblau's function}$$\n",
    "\n",
    "$$f(x) = 0.1 ((x_1^2 + x_2 - 1.1)^2 + (x_1 + x_2^2 - 0.7)^2) $$"
   ]
  },
  {
   "cell_type": "code",
   "execution_count": null,
   "metadata": {},
   "outputs": [],
   "source": [
    "%%manim -ql SubGradientDescent\n",
    "\n",
    "def fx(self, x1, x2):\n",
    "    fx = 0.1*((x1**2 + x2 - 1.1)**2 +  (x1 + x2**2 - 0.7) **2)\n",
    "    return fx\n",
    "    \n",
    "    \n",
    "def dfx(self, x1, x2):\n",
    "    dx1 = 0.1 * (4 * x1 * (x1**2 + x2 - 1.1) + 2 * (x1 + x2**2 - 0.7))\n",
    "    dx2 = 0.1 * (2 * (x1**2 + x2 - 1.1) + 4 * x2 * (x1 + x2**2 - 0.7))\n",
    "    return np.array([dx1, dx2])\n",
    "\n",
    "SubGradientDescent.max_iter=10\n",
    "SubGradientDescent.x10 = -1.91\n",
    "SubGradientDescent.x20 = 1\n",
    "SubGradientDescent.step_size = 1\n",
    "SubGradientDescent.mode = '3d'\n",
    "SubGradientDescent.fx = fx\n",
    "SubGradientDescent.dfx = dfx\n",
    "SubGradientDescent.verbose = False\n",
    "SubGradientDescent.display_context = True"
   ]
  },
  {
   "cell_type": "markdown",
   "metadata": {},
   "source": [
    "$$f(x) = 0.5x_1^2 + 0.05x_2^2 $$"
   ]
  },
  {
   "cell_type": "code",
   "execution_count": null,
   "metadata": {},
   "outputs": [],
   "source": [
    "%%manim -ql SubGradientDescent\n",
    "\n",
    "def fx(self, x1, x2):\n",
    "    fx = 0.5 * x1**2 +  0.05 * x2 ** 2\n",
    "    return fx\n",
    "    \n",
    "    \n",
    "def dfx(self, x1, x2):\n",
    "    dx1 = x1\n",
    "    dx2 = 0.1 * x2\n",
    "    return np.array([dx1, dx2])\n",
    "\n",
    "SubGradientDescent.max_iter=10\n",
    "SubGradientDescent.x10 = 1.5\n",
    "SubGradientDescent.x20 = 1.5\n",
    "SubGradientDescent.step_size = 1.5\n",
    "SubGradientDescent.mode = '3d'\n",
    "SubGradientDescent.fx = fx\n",
    "SubGradientDescent.dfx = dfx\n",
    "SubGradientDescent.verbose = False\n",
    "SubGradientDescent.display_context = True\n"
   ]
  },
  {
   "cell_type": "code",
   "execution_count": null,
   "metadata": {},
   "outputs": [],
   "source": [
    "%%manim -ql SubGradientDescentWithMomentum\n",
    "\n",
    "SubGradientDescentWithMomentum.max_iter=5\n",
    "SubGradientDescentWithMomentum.x10 = 1.5\n",
    "SubGradientDescentWithMomentum.x20 = 1.5\n",
    "SubGradientDescentWithMomentum.beta = 0.25\n",
    "SubGradientDescentWithMomentum.step_size = 1.5\n",
    "SubGradientDescentWithMomentum.mode = '3d'\n",
    "SubGradientDescentWithMomentum.fx = fx\n",
    "SubGradientDescentWithMomentum.dfx = dfx\n",
    "SubGradientDescent.verbose = False\n"
   ]
  },
  {
   "cell_type": "markdown",
   "metadata": {},
   "source": [
    "$$f(x) = x_1^2 - x_2^2$$"
   ]
  },
  {
   "cell_type": "code",
   "execution_count": null,
   "metadata": {},
   "outputs": [],
   "source": [
    "%%manim -ql SubGradientDescent\n",
    "\n",
    "def fx(self, x1, x2):\n",
    "    fx = x1**2 - x2**2\n",
    "    return fx\n",
    "    \n",
    "    \n",
    "def dfx(self, x1, x2):\n",
    "    dx1 = 2*x1\n",
    "    dx2 = -2*x2\n",
    "    return np.array([dx1, dx2])\n",
    "\n",
    "SubGradientDescent.max_iter=7\n",
    "SubGradientDescent.x10 = -1.5\n",
    "SubGradientDescent.x20 = 0.1\n",
    "SubGradientDescent.step_size = 0.25\n",
    "SubGradientDescent.mode = '3d'\n",
    "SubGradientDescent.fx = fx\n",
    "SubGradientDescent.dfx = dfx"
   ]
  },
  {
   "cell_type": "code",
   "execution_count": null,
   "metadata": {},
   "outputs": [],
   "source": [
    "%%manim -ql SubGradientDescent\n",
    "SubGradientDescent.mode = '2d'"
   ]
  },
  {
   "cell_type": "markdown",
   "metadata": {},
   "source": [
    "$$f(x) = \\|x\\|_1$$"
   ]
  },
  {
   "cell_type": "code",
   "execution_count": null,
   "metadata": {},
   "outputs": [],
   "source": [
    "%%manim -ql SubGradientDescent\n",
    "\n",
    "def fx(self, x1, x2):\n",
    "    fx = np.abs(x1) + np.abs(x2)\n",
    "    return fx\n",
    "    \n",
    "    \n",
    "def dfx(self, x1, x2):\n",
    "    if x1 < 0:\n",
    "        dx1 = -1\n",
    "    if x1 > 0:\n",
    "        dx1 = 1\n",
    "    if x2 < 0:\n",
    "        dx2 = -1\n",
    "    if x2 > 0:\n",
    "        dx2 = 1\n",
    "    if x1 == 0:\n",
    "        dx1 = 0\n",
    "    if x2 == 0:\n",
    "        dx2 = 0\n",
    "    return np.array([dx1, dx2])\n",
    "\n",
    "SubGradientDescent.max_iter=10\n",
    "SubGradientDescent.x10 = 0.2\n",
    "SubGradientDescent.x20 = 1.5\n",
    "SubGradientDescent.step_size = 0.25\n",
    "SubGradientDescent.mode = '3d'\n",
    "SubGradientDescent.fx = fx\n",
    "SubGradientDescent.dfx = dfx\n",
    "SubGradientDescent.verbose = False\n",
    "SubGradientDescent.display_context = True\n",
    "SubGradientDescent.cam_mode = 'zaxis_rotation'"
   ]
  },
  {
   "cell_type": "markdown",
   "metadata": {},
   "source": [
    "$$f(x) = 0.5\\max_i(x_i)^2$$"
   ]
  },
  {
   "cell_type": "code",
   "execution_count": null,
   "metadata": {},
   "outputs": [],
   "source": [
    "%%manim -ql SubGradientDescent\n",
    "\n",
    "def fx(self, x1, x2):\n",
    "    fx = 0.5* np.maximum(x1, x2)**2\n",
    "    return fx\n",
    "    \n",
    "    \n",
    "def dfx(self, x1, x2):\n",
    "    if x1 > x2:\n",
    "        dx1 = x1\n",
    "        dx2 = 0\n",
    "    if x1 < x2:\n",
    "        dx2 = x2\n",
    "        dx1 = 0\n",
    "    if x1 == x2:\n",
    "        dx2 = x2\n",
    "        dx1 = x1\n",
    "\n",
    "    return np.array([dx1, dx2])\n",
    "\n",
    "SubGradientDescent.max_iter=5\n",
    "SubGradientDescent.x10 = np.random.rand()*0.5 + 1.5\n",
    "SubGradientDescent.x20 = np.random.rand()*0.5 + 1.5\n",
    "SubGradientDescent.step_size = 1\n",
    "SubGradientDescent.mode = '3d'\n",
    "SubGradientDescent.fx = fx\n",
    "SubGradientDescent.dfx = dfx"
   ]
  },
  {
   "cell_type": "markdown",
   "metadata": {},
   "source": [
    "$$f(x) = 0.5x_1^2 + 0.05x_2^2 $$\n",
    "$$s.t. Ax\\leq b$$"
   ]
  },
  {
   "cell_type": "code",
   "execution_count": null,
   "metadata": {},
   "outputs": [],
   "source": [
    "%%manim -ql ProjectedSubGradientDescent\n",
    "import cvxpy as cp\n",
    "\n",
    "A = np.array([[1, -1], [-0.9, 0.2], [1, 0.3], [-1, -0.9]])\n",
    "b = np.array([1, 1, 0.5, 1])\n",
    "\n",
    "\n",
    "def fx(self, x1, x2):\n",
    "    fx = 0.5 * x1**2 +  0.05 * x2 ** 2\n",
    "    return fx\n",
    "\n",
    "\n",
    "def proj2feasible(self, x1, x2):\n",
    "    x = cp.Variable(2)\n",
    "    z = np.array([x1, x2])\n",
    "    obj = cp.Minimize(0.5*cp.norm2(x-z)**2)\n",
    "    con = [A@x<=b]\n",
    "    cp.Problem(obj, con).solve()\n",
    "    return x.value[0], x.value[1]\n",
    "    \n",
    "def dfx(self, x1, x2):\n",
    "    dx1 = x1\n",
    "    dx2 = 0.1 * x2\n",
    "    return np.array([dx1, dx2])\n",
    "\n",
    "\n",
    "def constraints(self, x1, x2):\n",
    "    if isinstance(x1, np.ndarray):\n",
    "        array_shape = x1.shape\n",
    "        x1 = x1.reshape(-1)\n",
    "        x2 = x2.reshape(-1)\n",
    "        x = np.vstack([x1, x2])\n",
    "        out = np.all(A@x < b[:,None], axis=0)\n",
    "        out = out.reshape(array_shape)\n",
    "    else:\n",
    "        x = np.array([x1, x2])\n",
    "        out = np.all(A@x < b)\n",
    "    \n",
    "    return out\n",
    "\n",
    "ProjectedSubGradientDescent.max_iter=5\n",
    "ProjectedSubGradientDescent.x10 = -1.5\n",
    "ProjectedSubGradientDescent.x20 = 1.5\n",
    "ProjectedSubGradientDescent.surface_resolution=20\n",
    "ProjectedSubGradientDescent.constraints = constraints\n",
    "ProjectedSubGradientDescent.proj2feasible = proj2feasible\n",
    "ProjectedSubGradientDescent.step_size = 1.5\n",
    "ProjectedSubGradientDescent.mode = '3d'\n",
    "ProjectedSubGradientDescent.fx = fx\n",
    "ProjectedSubGradientDescent.dfx = dfx\n",
    "ProjectedSubGradientDescent.verbose = False\n",
    "ProjectedSubGradientDescent.display_context = True\n",
    "ProjectedSubGradientDescent.anime = True"
   ]
  }
 ],
 "metadata": {
  "interpreter": {
   "hash": "e28550ad42e4bd58856f05fe62cd91584940453773e5355ad1f756f9fe33003f"
  },
  "kernelspec": {
   "display_name": "Python 3.9.12 ('cvx_viz')",
   "language": "python",
   "name": "python3"
  },
  "language_info": {
   "codemirror_mode": {
    "name": "ipython",
    "version": 3
   },
   "file_extension": ".py",
   "mimetype": "text/x-python",
   "name": "python",
   "nbconvert_exporter": "python",
   "pygments_lexer": "ipython3",
   "version": "3.9.12"
  },
  "orig_nbformat": 4
 },
 "nbformat": 4,
 "nbformat_minor": 2
}
